{
 "cells": [
  {
   "cell_type": "markdown",
   "id": "10bdff72",
   "metadata": {},
   "source": [
    "- 任务：列出文件夹内的所有文件\n",
    "  - 仅列出完整文件名 {file_name}\n",
    "  - 不包括文件夹\n",
    "  - 增加一个变量 keywords，以便我有选择地列举\n",
    "  - 增加一个变量 exclude，以便我有选择地排除\n",
    "- 文件夹：D:\\Github\\ds\\body\n",
    "- 格式：'        - body/{file_name}.{suffix}' (保留我提供的空格)\n",
    "- 输出：打印在控制台即可"
   ]
  },
  {
   "cell_type": "code",
   "execution_count": null,
   "id": "b916b9ea",
   "metadata": {},
   "outputs": [
    {
     "name": "stdout",
     "output_type": "stream",
     "text": [
      "        - body/00_intro.ipynb\n",
      "        - body/00_intro_data_storytelling.ipynb\n",
      "        - body/00_py_with_AI_intro.ipynb\n",
      "        - body/00_py_with_AI_pic.ipynb\n",
      "        - body/01_1_install-Python-Anocanda.ipynb\n",
      "        - body/01_2_install_FAQs.ipynb\n",
      "        - body/01_3_markdown.md\n",
      "        - body/01_py_01_basic.ipynb\n",
      "        - body/01_py_01_basic_01_grammer.ipynb\n",
      "        - body/01_py_01_basic_02_QuickReference.md\n",
      "        - body/01_py_01_basic_03_Packages.md\n",
      "        - body/01_py_01_basic_04_import.md\n",
      "        - body/01_py_01_basic_05_OOP.ipynb\n",
      "        - body/01_py_01_basic_06_filepath.ipynb\n",
      "        - body/01_py_02_numpy_scipy.ipynb\n",
      "        - body/01_py_02_pandas.ipynb\n",
      "        - body/01_py_03_matplotlib.ipynb\n",
      "        - body/01_py_04_func_and_module.ipynb\n",
      "        - body/01_py_05_class.ipynb\n",
      "        - body/data_01_get_data.ipynb\n",
      "        - body/data_02_data_type.ipynb\n",
      "        - body/data_02_get_data_GMD.ipynb\n",
      "        - body/data_notes.ipynb\n",
      "        - body/data_outliers.ipynb\n",
      "        - body/data_readdata.ipynb\n",
      "        - body/graph_01_intro.ipynb\n",
      "        - body/graph_01_intro_new.ipynb\n",
      "        - body/graph_dis_box_violin.ipynb\n",
      "        - body/graph_dis_histogram.ipynb\n",
      "        - body/graph_dis_kdensity.ipynb\n",
      "        - body/regress_01_OLS.ipynb\n",
      "        - body/regress_02_wage.ipynb\n",
      "        - body/regress_03_binscatter.ipynb\n",
      "        - body/regress_wage_prediction.ipynb\n",
      "        - body/test_AB_test.ipynb\n",
      "        - body/TS_FRED_US_unemploy_rate.ipynb\n",
      "        - body/TS_SZ_index.ipynb\n",
      "        - body/web_01_intro.md\n",
      "        - body/_home.qmd\n",
      "        - body/__Notes.md\n",
      "        - body/___temp.ipynb\n"
     ]
    }
   ],
   "source": [
    "import os\n",
    "\n",
    "# 增加关键词变量\n",
    "keywords = []\n",
    "exclude = []\n",
    "\n",
    "folder_path = os.getcwd()\n",
    "\n",
    "for file in os.listdir(folder_path):\n",
    "    if os.path.isfile(os.path.join(folder_path, file)):\n",
    "        file_name, suffix = os.path.splitext(file)\n",
    "        suffix = suffix.lstrip('.')\n",
    "        # 如果keywords为空或文件名包含任一关键词且不在排除列表则输出\n",
    "        if (not keywords or any(kw in file_name for kw in keywords)) and \\\n",
    "           (not exclude or all(ex not in file_name for ex in exclude)):\n",
    "            print(f'        - body/{file_name}.{suffix}')"
   ]
  },
  {
   "cell_type": "code",
   "execution_count": 5,
   "id": "49941dba",
   "metadata": {},
   "outputs": [
    {
     "name": "stdout",
     "output_type": "stream",
     "text": [
      "        - homework/pre/Dangdang_G7_01_data_clean.ipynb\n",
      "        - homework/pre/Dangdang_G7_02_data_analysis.ipynb\n",
      "        - homework/pre/G8_China_stock_analysis.ipynb\n",
      "        - homework/pre/Stock_G4_01_data_crawler.ipynb\n",
      "        - homework/pre/Stock_G4_02_data_cleaning.ipynb\n",
      "        - homework/pre/Stock_G4_03_data_analysis.ipynb\n",
      "        - homework/pre/_ex02_万诗晴.ipynb\n",
      "        - homework/pre/_ex02_吴倩茵.ipynb\n",
      "        - homework/pre/_ex02_朱少荣.ipynb\n",
      "        - homework/pre/_ex02_黄伊姿.ipynb\n"
     ]
    }
   ],
   "source": [
    "for file in os.listdir(forder_path):\n",
    "    if os.path.isfile(os.path.join(forder_path, file)):\n",
    "        file_name, suffix = os.path.splitext(file)\n",
    "        suffix = suffix.lstrip('.')\n",
    "        if (not keywords or any(kw in file_name for kw in keywords)) and \\\n",
    "           (not exclude or all(ex not in file_name for ex in exclude)):\n",
    "            print(f'        - homework/pre/{file_name}.{suffix}')"
   ]
  }
 ],
 "metadata": {
  "kernelspec": {
   "display_name": "base",
   "language": "python",
   "name": "python3"
  },
  "language_info": {
   "codemirror_mode": {
    "name": "ipython",
    "version": 3
   },
   "file_extension": ".py",
   "mimetype": "text/x-python",
   "name": "python",
   "nbconvert_exporter": "python",
   "pygments_lexer": "ipython3",
   "version": "3.12.7"
  }
 },
 "nbformat": 4,
 "nbformat_minor": 5
}
